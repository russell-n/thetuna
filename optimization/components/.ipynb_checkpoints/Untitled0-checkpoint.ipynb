{
 "metadata": {
  "name": "",
  "signature": "sha256:91511392b4d1ad17701f75000169eb69d678ca02f3f46d0d423c9f8c2db4a83d"
 },
 "nbformat": 3,
 "nbformat_minor": 0,
 "worksheets": []
}